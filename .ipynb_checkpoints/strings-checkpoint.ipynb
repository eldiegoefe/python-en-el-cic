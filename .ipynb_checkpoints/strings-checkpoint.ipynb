{
 "cells": [
  {
   "cell_type": "code",
   "execution_count": 1,
   "metadata": {
    "collapsed": false,
    "slideshow": {
     "slide_type": "skip"
    }
   },
   "outputs": [
    {
     "data": {
      "text/plain": [
       "{'start_slideshow_at': 'selected', 'theme': 'serif', 'transition': 'default'}"
      ]
     },
     "execution_count": 1,
     "metadata": {},
     "output_type": "execute_result"
    }
   ],
   "source": [
    "from notebook.services.config import ConfigManager\n",
    "cm = ConfigManager()\n",
    "cm.update('livereveal', {\n",
    "              'theme': 'serif',\n",
    "              'transition': 'default',\n",
    "              'start_slideshow_at': 'selected',\n",
    "})"
   ]
  },
  {
   "cell_type": "markdown",
   "metadata": {
    "slideshow": {
     "slide_type": "slide"
    }
   },
   "source": [
    "# Strings\n",
    "\n",
    "+ son cadenas caracteres (ya las usamos en los prints)\n",
    "+ los caracteres sueltos son cadenas de longitud = 1\n",
    "+ los caracteres se ubican entre pares de ' o \"\n",
    "+ también se pueden usar triples comillas ''' para cadenas largas\n"
   ]
  },
  {
   "cell_type": "code",
   "execution_count": 1,
   "metadata": {
    "collapsed": false,
    "slideshow": {
     "slide_type": "fragment"
    }
   },
   "outputs": [
    {
     "name": "stdout",
     "output_type": "stream",
     "text": [
      "Potasio\n"
     ]
    }
   ],
   "source": [
    "elemento = 'Potasio'\n",
    "print(elemento)"
   ]
  },
  {
   "cell_type": "code",
   "execution_count": 2,
   "metadata": {
    "collapsed": false,
    "scrolled": true,
    "slideshow": {
     "slide_type": "fragment"
    }
   },
   "outputs": [
    {
     "data": {
      "text/plain": [
       "str"
      ]
     },
     "execution_count": 2,
     "metadata": {},
     "output_type": "execute_result"
    }
   ],
   "source": [
    "nroAtomicoPotasio = '19'\n",
    "type(nroAtomicoPotasio)   # como está entre comillas no es un número int"
   ]
  },
  {
   "cell_type": "markdown",
   "metadata": {
    "slideshow": {
     "slide_type": "slide"
    }
   },
   "source": [
    "# ¡Danger!\n",
    "\n",
    "De vez en cuando suceden cosas extrañas.\n",
    "\n",
    "¿Qué pasa si se incluyen comillas?"
   ]
  },
  {
   "cell_type": "code",
   "execution_count": 3,
   "metadata": {
    "collapsed": false,
    "slideshow": {
     "slide_type": "fragment"
    }
   },
   "outputs": [
    {
     "name": "stdout",
     "output_type": "stream",
     "text": [
      "En el último partido 'Los Pumas' le ganaron a Irlanda\n"
     ]
    }
   ],
   "source": [
    "# noticiaConError = \"\"Los Pumas\" le ganaron a Irlanda\"\n",
    "unaNoticia = \"En el último partido 'Los Pumas' le ganaron a Irlanda\"\n",
    "print(unaNoticia)"
   ]
  },
  {
   "cell_type": "markdown",
   "metadata": {
    "slideshow": {
     "slide_type": "fragment"
    }
   },
   "source": [
    "Existen secuencias especiales como \\n (linea nueva) o \\t (tabulación) que tienen efectos sobre la visualización:"
   ]
  },
  {
   "cell_type": "code",
   "execution_count": 71,
   "metadata": {
    "collapsed": false,
    "slideshow": {
     "slide_type": "fragment"
    }
   },
   "outputs": [
    {
     "data": {
      "text/plain": [
       "'Esto aparece escrito \\nen dos \\tlineas'"
      ]
     },
     "execution_count": 71,
     "metadata": {},
     "output_type": "execute_result"
    }
   ],
   "source": [
    "dosLineas = \"Esto aparece escrito \\nen dos \\tlineas\"\n",
    "dosLineas\n",
    "# print(dosLineas + '\\n')"
   ]
  },
  {
   "cell_type": "markdown",
   "metadata": {
    "slideshow": {
     "slide_type": "slide"
    }
   },
   "source": [
    "Pero a veces se necesita escribir \\n o \\t"
   ]
  },
  {
   "cell_type": "code",
   "execution_count": 50,
   "metadata": {
    "collapsed": false,
    "slideshow": {
     "slide_type": "fragment"
    }
   },
   "outputs": [
    {
     "name": "stdout",
     "output_type": "stream",
     "text": [
      "Se ha creado el directorio C:\n",
      "uevo\temp\n",
      "\n",
      "Se ha creado el directorio C:\\nuevo\\temp\n",
      "\n",
      "Se ha creado el directorio C:\\nuevo\\temp\n",
      "\n"
     ]
    }
   ],
   "source": [
    "aviso1 = \"Se ha creado el directorio C:\\nuevo\\temp\"\n",
    "aviso2 = \"Se ha creado el directorio C:\\\\nuevo\\\\temp\"\n",
    "aviso3 = r\"Se ha creado el directorio C:\\nuevo\\temp\"\n",
    "\n",
    "\n",
    "print(aviso1 + '\\n')\n",
    "print(aviso2 + '\\n')\n",
    "print(aviso3 + '\\n')"
   ]
  },
  {
   "cell_type": "markdown",
   "metadata": {
    "slideshow": {
     "slide_type": "slide"
    }
   },
   "source": [
    "# Cadenas de más de un renglón\n",
    "\n",
    "## triple comilla"
   ]
  },
  {
   "cell_type": "code",
   "execution_count": 6,
   "metadata": {
    "collapsed": false,
    "slideshow": {
     "slide_type": "fragment"
    }
   },
   "outputs": [
    {
     "name": "stdout",
     "output_type": "stream",
     "text": [
      "un\n",
      "elefante\n",
      "ocupa\n",
      "mucho\n",
      "espacio\n"
     ]
    }
   ],
   "source": [
    "cadenaLarga = '''un\n",
    "elefante\n",
    "ocupa\n",
    "mucho\n",
    "espacio'''\n",
    "\n",
    "print(cadenaLarga)"
   ]
  },
  {
   "cell_type": "markdown",
   "metadata": {
    "slideshow": {
     "slide_type": "slide"
    }
   },
   "source": [
    "## Acceso a los elementos de la cadena"
   ]
  },
  {
   "cell_type": "code",
   "execution_count": 38,
   "metadata": {
    "collapsed": false,
    "slideshow": {
     "slide_type": "fragment"
    }
   },
   "outputs": [
    {
     "name": "stdout",
     "output_type": "stream",
     "text": [
      "C\n",
      "o\n"
     ]
    }
   ],
   "source": [
    "sal = \"Cloruro de Potasio\"\n",
    "print(sal[0])\n",
    "print(sal[-1])"
   ]
  },
  {
   "cell_type": "markdown",
   "metadata": {
    "slideshow": {
     "slide_type": "slide"
    }
   },
   "source": [
    "## Las cadenas son inmutables"
   ]
  },
  {
   "cell_type": "code",
   "execution_count": 1,
   "metadata": {
    "collapsed": false,
    "slideshow": {
     "slide_type": "fragment"
    }
   },
   "outputs": [],
   "source": [
    "# sal[0] = 'P'"
   ]
  },
  {
   "cell_type": "markdown",
   "metadata": {
    "slideshow": {
     "slide_type": "slide"
    }
   },
   "source": [
    "# Concatenación de cadenas"
   ]
  },
  {
   "cell_type": "code",
   "execution_count": 39,
   "metadata": {
    "collapsed": false,
    "slideshow": {
     "slide_type": "fragment"
    }
   },
   "outputs": [
    {
     "name": "stdout",
     "output_type": "stream",
     "text": [
      "Dijo el señor Miyagui: \"encerar-pulir\"\n"
     ]
    }
   ],
   "source": [
    "cad1 = \"encerar\"\n",
    "cad2 = '-'         # cadena de un solo caracter\n",
    "cad3 = \"pulir\"\n",
    "\n",
    "print('Dijo el señor Miyagui: \"' + cad1 + cad2 + cad3 + '\"')"
   ]
  },
  {
   "cell_type": "markdown",
   "metadata": {
    "slideshow": {
     "slide_type": "slide"
    }
   },
   "source": [
    "# Utilidad de las cadenas\n",
    "\n",
    "- Mensajes\n",
    "- Datos:\n",
    "\n",
    "``` python\n",
    "unaSecuencia = 'ACTGATCGTTTGCTATCATACATATATATCGATGCGTTCAT'\n",
    "lineaDeUnRegistro = '284,445\\t0,103'\n",
    "```"
   ]
  },
  {
   "cell_type": "markdown",
   "metadata": {
    "slideshow": {
     "slide_type": "slide"
    }
   },
   "source": [
    "# Funciones útiles (métodos)\n",
    "\n",
    "- la cadena original sigue existiendo (son inmutables)\n",
    "- ejemplos:\n",
    "    - lower()\n",
    "    - upper()\n",
    "    - capitalize()\n",
    "    - split('chars')\n",
    "    - count('chars')\n",
    "    - find('chars'): -1 si no lo encuentra\n",
    "    - replace('orig', 'reempl')\n"
   ]
  },
  {
   "cell_type": "code",
   "execution_count": 40,
   "metadata": {
    "collapsed": false,
    "slideshow": {
     "slide_type": "slide"
    }
   },
   "outputs": [
    {
     "name": "stdout",
     "output_type": "stream",
     "text": [
      "CLORURO DE POTASIO\n",
      "284,445;0,103\n"
     ]
    }
   ],
   "source": [
    "sal = \"Cloruro de Potasio\"\n",
    "print(sal.upper())\n",
    "\n",
    "lineaDeUnRegistro = '284,445\\t0,103'\n",
    "print(lineaDeUnRegistro.replace('\\t', ';'))"
   ]
  },
  {
   "cell_type": "markdown",
   "metadata": {
    "slideshow": {
     "slide_type": "slide"
    }
   },
   "source": [
    "## Se pueden concatenar operaciones"
   ]
  },
  {
   "cell_type": "code",
   "execution_count": 31,
   "metadata": {
    "collapsed": false,
    "slideshow": {
     "slide_type": "fragment"
    }
   },
   "outputs": [
    {
     "name": "stdout",
     "output_type": "stream",
     "text": [
      "Sal original:  Cloruro de Potasio\n",
      "Otra sal:  ['CLORURO', 'DE', 'SODIO']\n"
     ]
    }
   ],
   "source": [
    "sal = \"Cloruro de Potasio\"\n",
    "otra_sal = sal.replace('Potasio', 'sodio').upper().split(' ')\n",
    "\n",
    "print(\"Sal original: \", sal)\n",
    "print(\"Otra sal: \", otra_sal)"
   ]
  },
  {
   "cell_type": "code",
   "execution_count": 72,
   "metadata": {
    "collapsed": false,
    "slideshow": {
     "slide_type": "fragment"
    }
   },
   "outputs": [
    {
     "name": "stdout",
     "output_type": "stream",
     "text": [
      "Conteo de T:  21\n"
     ]
    }
   ],
   "source": [
    "unaSecuencia = 'ACTGATCGATTACGTATAGTATTTGCTATCATACATATATATCGATGCGTTCAT'\n",
    "conteo = unaSecuencia.lower().count('t')\n",
    "print(\"Conteo de T: \", conteo)"
   ]
  },
  {
   "cell_type": "code",
   "execution_count": 73,
   "metadata": {
    "collapsed": false,
    "slideshow": {
     "slide_type": "fragment"
    }
   },
   "outputs": [
    {
     "name": "stdout",
     "output_type": "stream",
     "text": [
      "284,445\t0,103\n"
     ]
    }
   ],
   "source": [
    "print(lineaDeUnRegistro.replace(',', '.').replace('.', ','))"
   ]
  },
  {
   "cell_type": "markdown",
   "metadata": {
    "slideshow": {
     "slide_type": "slide"
    }
   },
   "source": [
    "# Slicing (rebanado)\n",
    "\n",
    "``` python\n",
    "cadena[inicio:fin:paso]\n",
    "```"
   ]
  },
  {
   "cell_type": "code",
   "execution_count": 41,
   "metadata": {
    "collapsed": false,
    "slideshow": {
     "slide_type": "fragment"
    }
   },
   "outputs": [
    {
     "name": "stdout",
     "output_type": "stream",
     "text": [
      "La ruta\n"
     ]
    }
   ],
   "source": [
    "cad = \"La ruta nos aportó otro paso natural\"\n",
    "print(cad[0:7])"
   ]
  },
  {
   "cell_type": "code",
   "execution_count": 42,
   "metadata": {
    "collapsed": false,
    "slideshow": {
     "slide_type": "fragment"
    }
   },
   "outputs": [
    {
     "name": "stdout",
     "output_type": "stream",
     "text": [
      "L ua\n"
     ]
    }
   ],
   "source": [
    "print(cad[0:7:2])"
   ]
  },
  {
   "cell_type": "code",
   "execution_count": 45,
   "metadata": {
    "collapsed": false,
    "slideshow": {
     "slide_type": "slide"
    }
   },
   "outputs": [
    {
     "name": "stdout",
     "output_type": "stream",
     "text": [
      "paso natural\n"
     ]
    }
   ],
   "source": [
    "cad = \"La ruta nos aportó otro paso natural\"\n",
    "print(cad[24:])"
   ]
  },
  {
   "cell_type": "code",
   "execution_count": 46,
   "metadata": {
    "collapsed": false,
    "scrolled": false,
    "slideshow": {
     "slide_type": "fragment"
    }
   },
   "outputs": [
    {
     "name": "stdout",
     "output_type": "stream",
     "text": [
      "larutan osap orto ótropa son atur aL\n"
     ]
    }
   ],
   "source": [
    "print(cad[::-1])"
   ]
  },
  {
   "cell_type": "markdown",
   "metadata": {
    "slideshow": {
     "slide_type": "fragment"
    }
   },
   "source": [
    "## Armar script para testear palíndromos"
   ]
  },
  {
   "cell_type": "code",
   "execution_count": 70,
   "metadata": {
    "collapsed": false,
    "slideshow": {
     "slide_type": "fragment"
    }
   },
   "outputs": [],
   "source": [
    "cad = \"La ruta nos aportó otro paso natural\""
   ]
  },
  {
   "cell_type": "markdown",
   "metadata": {
    "slideshow": {
     "slide_type": "slide"
    }
   },
   "source": [
    "# No confundir strings con números"
   ]
  },
  {
   "cell_type": "code",
   "execution_count": 75,
   "metadata": {
    "collapsed": false,
    "slideshow": {
     "slide_type": "fragment"
    }
   },
   "outputs": [
    {
     "data": {
      "text/plain": [
       "False"
      ]
     },
     "execution_count": 75,
     "metadata": {},
     "output_type": "execute_result"
    }
   ],
   "source": [
    "uno = 1.0\n",
    "unoPuntoCero = \"1.0\"\n",
    "\n",
    "uno == unoPuntoCero"
   ]
  },
  {
   "cell_type": "markdown",
   "metadata": {
    "slideshow": {
     "slide_type": "fragment"
    }
   },
   "source": [
    "Conversión:\n",
    "\n",
    "- int('cadena')\n",
    "- float('cadena')\n",
    "- str(número)"
   ]
  }
 ],
 "metadata": {
  "celltoolbar": "Slideshow",
  "kernelspec": {
   "display_name": "Python 3",
   "language": "python",
   "name": "python3"
  },
  "language_info": {
   "codemirror_mode": {
    "name": "ipython",
    "version": 3
   },
   "file_extension": ".py",
   "mimetype": "text/x-python",
   "name": "python",
   "nbconvert_exporter": "python",
   "pygments_lexer": "ipython3",
   "version": "3.5.0"
  }
 },
 "nbformat": 4,
 "nbformat_minor": 0
}
