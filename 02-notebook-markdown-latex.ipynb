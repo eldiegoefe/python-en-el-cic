{
 "cells": [
  {
   "cell_type": "markdown",
   "metadata": {
    "slideshow": {
     "slide_type": "slide"
    }
   },
   "source": [
    "# Celdas de Texto Enriquecido\n",
    "\n",
    "- Referencias \n",
    "    + [Markdown](https://github.com/adam-p/markdown-here/wiki/Markdown-Cheatsheet)\n",
    "    + [Github Flavoured Markdown](https://help.github.com/articles/github-flavored-markdown/)\n",
    "- Mini-curso"
   ]
  },
  {
   "cell_type": "markdown",
   "metadata": {
    "slideshow": {
     "slide_type": "slide"
    }
   },
   "source": [
    "# Encabezados\n",
    "\n",
    "- #\n",
    "- ##\n",
    "- ###\n",
    "------    \n",
    "# Encabezado 1\n",
    "## Encabezado 2\n",
    "### Encabezado 3\n",
    "#### Encabezado 4\n",
    "##### Encabezado 5\n",
    "\n",
    "Los párrafos se separan por lineas en blanco."
   ]
  },
  {
   "cell_type": "markdown",
   "metadata": {
    "slideshow": {
     "slide_type": "slide"
    }
   },
   "source": [
    "# Estilos de texto\n",
    "\n",
    "| Código | Visualización |\n",
    "| :----: | :-----------: |\n",
    "| \\*Texto en cursiva\\* | *Texto en cursiva*   |\n",
    "| \\*\\*Texto en negrita\\*\\*      | **Texto en negrita** |"
   ]
  },
  {
   "cell_type": "markdown",
   "metadata": {
    "slideshow": {
     "slide_type": "slide"
    }
   },
   "source": [
    "# Tablas\n",
    "\n",
    "- Permite alineación derecha, izquierda, centrada\n",
    "\n",
    "```\n",
    "| Código | Descripción del item | Precio Unitario |\n",
    "| :----: | :----- | --------------: |\n",
    "| 12544524052433 | Yerba Rosamonte | 52.00 |\n",
    "| 5              | Yerba Taragüí   | 49.00 |\n",
    "| Centrado       | Izquierda       | Derecha |\n",
    "```\n",
    "\n",
    "| Código | Descripción del item | Precio Unitario |\n",
    "| :----: | :----- | --------------: |\n",
    "| 12544524052433 | Yerba Rosamonte | 52.00 |\n",
    "| 5              | Yerba Taragüí   | 49.00 |\n",
    "| Centrado       | Izquierda       | Derecha |"
   ]
  },
  {
   "cell_type": "markdown",
   "metadata": {
    "slideshow": {
     "slide_type": "slide"
    }
   },
   "source": [
    "## Citas\n",
    "\n",
    "- usando el caracter \">\" al inicio de cada párrafo (o de cada linea):\n",
    "\n",
    "``` \n",
    "> EL PENAL MAS LARGO DEL MUNDO. **Osvaldo Soriano**\n",
    "\n",
    "> El penal más fantástico del que yo tenga noticia se tiró en 1958 en un lugar perdido del valle de Río Negro, en Argentina, un domingo por la tarde en un estadio vacío. \n",
    "> Estrella Polar era un club de billares y mesas de baraja, un boliche de borrachos en una calle de tierra que terminaba en la orilla del río. \n",
    "> Tenía un equipo de fútbol que participaba en el campeonato \n",
    "> del valle porque los domingos no había otra cosa que hacer y el viento arrastraba la arena de las bardas y el polen de las chacras. \n",
    "```"
   ]
  },
  {
   "cell_type": "markdown",
   "metadata": {
    "slideshow": {
     "slide_type": "slide"
    }
   },
   "source": [
    "Se transforma en:\n",
    "\n",
    "> EL PENAL MAS LARGO DEL MUNDO. **Osvaldo Soriano**\n",
    "\n",
    "> El penal más fantástico del que yo tenga noticia se tiró en 1958 en un lugar perdido del valle de Río Negro, en Argentina, un domingo por la tarde en un estadio vacío. \n",
    "> Estrella Polar era un club de billares y mesas de baraja, un boliche de borrachos en una calle de tierra que terminaba en la orilla del río. \n",
    "> Tenía un equipo de fútbol que participaba en el campeonato \n",
    "> del valle porque los domingos no había otra cosa que hacer y el viento arrastraba la arena de las bardas y el polen de las chacras. "
   ]
  },
  {
   "cell_type": "markdown",
   "metadata": {
    "slideshow": {
     "slide_type": "slide"
    }
   },
   "source": [
    "## Listas ordenadas\n",
    "\n",
    "Prefijo: número y un punto.\n",
    "\n",
    "La indentación determina items de la misma categoría\n",
    "\n",
    "```\n",
    "1. Item 1\n",
    "1. Item 2\n",
    "1. Item 3\n",
    "    4. Subitem 1\n",
    "    3. Subitem 2\n",
    "       0. Subsubitem 1\n",
    "           0. Subsubsubsub\n",
    "    1. Subitem 3\n",
    "```"
   ]
  },
  {
   "cell_type": "markdown",
   "metadata": {
    "slideshow": {
     "slide_type": "slide"
    }
   },
   "source": [
    "La lista anterior se ve así:\n",
    "\n",
    "1. Item 1\n",
    "1. Item 2\n",
    "1. Item 3\n",
    "    4. Subitem 1\n",
    "    3. Subitem 2\n",
    "       0. Subsubitem 1\n",
    "           0. Subsubsubsub\n",
    "    1. Subitem 3"
   ]
  },
  {
   "cell_type": "markdown",
   "metadata": {
    "slideshow": {
     "slide_type": "slide"
    }
   },
   "source": [
    "### Listas desordenadas (y combinadas)\n",
    "\n",
    "Prefijos válidos: - * +\n",
    "\n",
    "La indentación determina items de la misma categoría\n",
    "\n",
    "```\n",
    "- Item\n",
    "+ Item \n",
    "* Item\n",
    "    - Subitem\n",
    "       0. Subsubitem\n",
    "       0. Subsubitem\n",
    "           0. Subsubsubsub\n",
    "               * item\n",
    "               * item\n",
    "    - Subitem\n",
    "```"
   ]
  },
  {
   "cell_type": "markdown",
   "metadata": {
    "slideshow": {
     "slide_type": "slide"
    }
   },
   "source": [
    "La lista anterior se ve así:\n",
    "\n",
    "- Item\n",
    "+ Item \n",
    "* Item\n",
    "    - Subitem\n",
    "       0. Subsubitem\n",
    "       0. Subsubitem\n",
    "           0. Subsubsubsub\n",
    "               * item\n",
    "               * item\n",
    "    - Subitem"
   ]
  },
  {
   "cell_type": "markdown",
   "metadata": {
    "slideshow": {
     "slide_type": "slide"
    }
   },
   "source": [
    "# Enlaces\n",
    "\n",
    "`[texto](dirección http)`\n",
    "\n",
    "`[Imagen del día (NASA)](http://apod.nasa.gov/apod/astropix.html)`\n",
    "\n",
    "[Imagen del día (NASA)](http://apod.nasa.gov/apod/astropix.html)"
   ]
  },
  {
   "cell_type": "markdown",
   "metadata": {
    "slideshow": {
     "slide_type": "slide"
    }
   },
   "source": [
    "# Imágenes\n",
    "\n",
    "`![título](files/nombreDeLaImagen.png)`\n",
    "\n",
    "`![Woody y Buzz](files/imagenes/python-buzz.jpg)`\n",
    "\n",
    "![Woody y Buzz](files/imagenes/python-buzz.jpg)"
   ]
  },
  {
   "cell_type": "markdown",
   "metadata": {
    "slideshow": {
     "slide_type": "fragment"
    }
   },
   "source": [
    "`Image(filename='./imagenes/python-buzz.jpg')`"
   ]
  },
  {
   "cell_type": "markdown",
   "metadata": {
    "slideshow": {
     "slide_type": "slide"
    }
   },
   "source": [
    "# LaTeX\n",
    "\n",
    "## ecuaciones\n",
    "\n",
    "Se escriben entre \\$ o entre \\$\\$:\n",
    "\n",
    "- \\$ ecuación \"inline\" \\$\n",
    "- \\$\\$ ecuación separada \\$\\$"
   ]
  },
  {
   "cell_type": "markdown",
   "metadata": {
    "slideshow": {
     "slide_type": "slide"
    }
   },
   "source": [
    "# LaTeX\n",
    "\n",
    "## letras griegas\n",
    "    \n",
    "| Código | Apariencia |\n",
    "|:-------: | :--------: |\n",
    "| \\alpha   | $\\alpha$ |\n",
    "| \\beta    | $\\beta$  |\n",
    "| \\pi      | $\\pi$    |\n"
   ]
  },
  {
   "cell_type": "markdown",
   "metadata": {
    "slideshow": {
     "slide_type": "slide"
    }
   },
   "source": [
    "# LaTeX\n",
    "\n",
    "## índices\n",
    "\n",
    "- Superíndices: ^\n",
    "- Subíndices: _\n",
    "    \n",
    "| Código     | Apariencia |\n",
    "|:-------:   | :--------: |\n",
    "| I_calcio^2   | $I_calcio^2$ |\n",
    "| I_{calcio}^2 | $I_{calcio}^2$  |\n"
   ]
  },
  {
   "cell_type": "markdown",
   "metadata": {
    "slideshow": {
     "slide_type": "slide"
    }
   },
   "source": [
    "# LaTeX\n",
    "\n",
    "## fracciones\n",
    "\n",
    "| Código | Apariencia |\n",
    "| :-------: | :--------: |\n",
    "| \\frac{num}{den} | $\\frac{num}{den}$ |\n",
    "\n",
    "\\frac{I_{calcio}^2}{\\alpha}\n",
    "\n",
    "$$\\frac{I_{calcio}^2}{\\alpha}$$\n",
    "\n"
   ]
  },
  {
   "cell_type": "markdown",
   "metadata": {
    "slideshow": {
     "slide_type": "slide"
    }
   },
   "source": [
    "# LaTeX\n",
    "\n",
    "## paréntesis, llaves, corchetes\n",
    "\n",
    "- **\\left(** y **\\right)** (se escalan de acuerdo al contenido)\n",
    "    - \\left( \\right): $\\left( \\right)$\n",
    "    - \\left[ \\right]: $\\left[ \\right]$\n",
    "    - \\left\\\\{ \\right\\\\}: $\\left\\{ \\right\\}$   (atención al escape: \\\\)\n",
    "    - ejemplo de escalado: $\\left( \\int^{\\infty}_{n = -\\infty} \\frac{1}{n^2}\\right)$"
   ]
  },
  {
   "cell_type": "markdown",
   "metadata": {
    "slideshow": {
     "slide_type": "slide"
    }
   },
   "source": [
    "# LaTeX\n",
    "\n",
    "## texto\n",
    "\n",
    "+ el texto se muestra sin espacios y con caracteres \"raros\"\n",
    "+ se utiliza \\text{} para escribir dentro de las fórmulas\n",
    "\n",
    "```\n",
    "$$[Calcio]_{fuera de la célula}$$\n",
    "\n",
    "$$[\\text{Calcio}]_{\\text{fuera de la célula}}$$\n",
    "```\n",
    "\n",
    "$$ [Calcio]_{fuera de la célula}$$\n",
    "\n",
    "$$[\\text{Calcio}]_{\\text{fuera de la célula}}$$ "
   ]
  },
  {
   "cell_type": "markdown",
   "metadata": {
    "slideshow": {
     "slide_type": "slide"
    }
   },
   "source": [
    "# LaTeX\n",
    "\n",
    "## funciones\n",
    "\n",
    "No se escriben como texto. Hay órdenes especiales, por ejemplo:\n",
    "\n",
    "- seno: \\sin \\left( 2 \\pi \\right)  $\\rightarrow \\sin \\left( 2 \\pi \\right)$\n",
    "- logaritmo: \\ln $\\rightarrow \\ln$"
   ]
  },
  {
   "cell_type": "markdown",
   "metadata": {
    "slideshow": {
     "slide_type": "slide"
    }
   },
   "source": [
    "# LaTeX\n",
    "\n",
    "## símbolos varios\n",
    "\n",
    "- \\rightarrow $\\rightarrow$\n",
    "- \\leftarrow $\\leftarrow$\n",
    "- \\pm $\\pm$\n",
    "- \\mp $\\mp$\n",
    "- \\Longleftrightarrow $\\Longleftrightarrow$\n"
   ]
  },
  {
   "cell_type": "markdown",
   "metadata": {
    "slideshow": {
     "slide_type": "slide"
    }
   },
   "source": [
    "# LaTeX\n",
    "\n",
    "## Escribir la ecuación de Nernst:\n",
    "\n",
    "+ convertir esto: EK+ = RT / zF * ln ([K+]o / [K+]i) en:\n",
    "\n",
    "$$E_{K^+} = \\frac{RT}{zF} \\ln \\frac{[K^+]_{o}}{[K^+]_{i}}$$"
   ]
  }
 ],
 "metadata": {
  "celltoolbar": "Slideshow",
  "kernelspec": {
   "display_name": "Python 3",
   "language": "python",
   "name": "python3"
  },
  "language_info": {
   "codemirror_mode": {
    "name": "ipython",
    "version": 3
   },
   "file_extension": ".py",
   "mimetype": "text/x-python",
   "name": "python",
   "nbconvert_exporter": "python",
   "pygments_lexer": "ipython3",
   "version": "3.5.0"
  }
 },
 "nbformat": 4,
 "nbformat_minor": 0
}
