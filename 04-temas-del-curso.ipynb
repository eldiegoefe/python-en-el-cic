{
 "cells": [
  {
   "cell_type": "markdown",
   "metadata": {
    "slideshow": {
     "slide_type": "slide"
    }
   },
   "source": [
    "# Python. Contenidos.\n",
    "\n",
    "- Muchos temas\n",
    "- Ortogonalidad del lenguaje\n",
    "- Ejemplos: simples vs útiles\n",
    "- Aprendizaje: prueba y error"
   ]
  },
  {
   "cell_type": "markdown",
   "metadata": {
    "slideshow": {
     "slide_type": "slide"
    }
   },
   "source": [
    "# Estructuras de datos (tipos)\n",
    "\n",
    "- Básicas (built-in):\n",
    "    - Números\n",
    "    - Cadenas de caracteres (strings)\n",
    "\n",
    "- Avanzadas (built-in):\n",
    "    - Listas\n",
    "    - Diccionarios\n",
    "    - Tuplas\n",
    "    - Conjuntos\n",
    "    \n",
    "- Extendidas:\n",
    "    - numpy-arrays\n",
    "    - pandas-dataframes\n",
    "    - creaciones de los usuarios"
   ]
  },
  {
   "cell_type": "markdown",
   "metadata": {
    "slideshow": {
     "slide_type": "slide"
    }
   },
   "source": [
    "# Instrucciones u Órdenes (1/2)\n",
    "\n",
    "- Asignación\n",
    "- Operaciones aritméticas:\n",
    "    - dependen de la estructura de datos\n",
    "    - +, -, *, /, etc\n",
    "- Operaciones lógicas:\n",
    "    - ==, >, <, >=, <=\n",
    "    - or, and, not\n",
    "    - in"
   ]
  },
  {
   "cell_type": "markdown",
   "metadata": {
    "collapsed": true,
    "slideshow": {
     "slide_type": "slide"
    }
   },
   "source": [
    "# Instrucciones u Órdenes (2/2)\n",
    "\n",
    "- Control de Flujo:\n",
    "    - Condicional: If... then... else...\n",
    "    - Bucles condicionales: While... \n",
    "    - Bucles (loops) fijos: For...\n",
    "- Funciones especiales:\n",
    "    - Propias del nucleo de Python: print(), type(), len()\n",
    "    - Librería estándar: math, io, sys, ...\n",
    "    - Expansiones:\n",
    "        - numpy\n",
    "        - matplotlib\n",
    "        - pandas\n",
    "    - Creadas por el usuario"
   ]
  },
  {
   "cell_type": "markdown",
   "metadata": {
    "slideshow": {
     "slide_type": "slide"
    }
   },
   "source": [
    "# Otras herramientas del lenguaje\n",
    "\n",
    "- empaquetamiento del código (funciones)\n",
    "- programación estructurada vs OO\n"
   ]
  },
  {
   "cell_type": "code",
   "execution_count": null,
   "metadata": {
    "collapsed": true
   },
   "outputs": [],
   "source": []
  }
 ],
 "metadata": {
  "celltoolbar": "Slideshow",
  "kernelspec": {
   "display_name": "Python 3",
   "language": "python",
   "name": "python3"
  },
  "language_info": {
   "codemirror_mode": {
    "name": "ipython",
    "version": 3
   },
   "file_extension": ".py",
   "mimetype": "text/x-python",
   "name": "python",
   "nbconvert_exporter": "python",
   "pygments_lexer": "ipython3",
   "version": "3.5.0"
  }
 },
 "nbformat": 4,
 "nbformat_minor": 0
}
