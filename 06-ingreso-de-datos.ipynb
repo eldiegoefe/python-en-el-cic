{
 "cells": [
  {
   "cell_type": "markdown",
   "metadata": {
    "slideshow": {
     "slide_type": "slide"
    }
   },
   "source": [
    "# Ingreso de datos"
   ]
  },
  {
   "cell_type": "code",
   "execution_count": 1,
   "metadata": {
    "collapsed": false,
    "slideshow": {
     "slide_type": "fragment"
    }
   },
   "outputs": [
    {
     "name": "stdout",
     "output_type": "stream",
     "text": [
      "ingrese un número del 1 al 10: 33\n"
     ]
    }
   ],
   "source": [
    "valor = input(\"ingrese un número del 1 al 10: \")"
   ]
  },
  {
   "cell_type": "code",
   "execution_count": 2,
   "metadata": {
    "collapsed": false,
    "slideshow": {
     "slide_type": "fragment"
    }
   },
   "outputs": [
    {
     "name": "stdout",
     "output_type": "stream",
     "text": [
      "Usted ingresó el número: 33\n"
     ]
    }
   ],
   "source": [
    "print(\"Usted ingresó el número:\", valor)"
   ]
  },
  {
   "cell_type": "markdown",
   "metadata": {
    "slideshow": {
     "slide_type": "slide"
    }
   },
   "source": [
    "# Más sobre ingreso de datos"
   ]
  },
  {
   "cell_type": "code",
   "execution_count": 27,
   "metadata": {
    "collapsed": false,
    "slideshow": {
     "slide_type": "fragment"
    }
   },
   "outputs": [
    {
     "name": "stdout",
     "output_type": "stream",
     "text": [
      "¿cuál es tu lenguaje favorito\n",
      "(p)ython - (b)asic - (f)ortran - (l)isp - (a)da\n",
      "f\n",
      "you know nothing, john snow!\n"
     ]
    }
   ],
   "source": [
    "# cuantas veces se le pregunta al usuario?\n",
    "# puede tipear una opción incorrecta?\n",
    "\n",
    "pregunta = \"¿cuál es tu lenguaje favorito\"\n",
    "opciones = \"(p)ython - (b)asic - (f)ortran - (l)isp - (a)da\"\n",
    "\n",
    "print(pregunta)\n",
    "print(opciones)\n",
    "\n",
    "eleccion = input().lower()\n",
    "\n",
    "if eleccion == 'p':\n",
    "    print(\"¡sos un genio!\")\n",
    "else:\n",
    "    print(\"you know nothing, john snow!\")"
   ]
  },
  {
   "cell_type": "markdown",
   "metadata": {
    "slideshow": {
     "slide_type": "slide"
    }
   },
   "source": [
    "# Otra estructura de control\n",
    "\n",
    "``` python\n",
    "while condicion:\n",
    "    bloque de instrucciones\n",
    "```"
   ]
  },
  {
   "cell_type": "markdown",
   "metadata": {
    "slideshow": {
     "slide_type": "slide"
    }
   },
   "source": [
    "# Otro operador lógico: \"in\"\n",
    "\n",
    "+ permite saber si un elemento pertenece a un conjunto\n",
    "+ salida booleana\n",
    "+ se usa en la orden FOR (lo vemos en un rato)"
   ]
  },
  {
   "cell_type": "code",
   "execution_count": 5,
   "metadata": {
    "collapsed": false,
    "slideshow": {
     "slide_type": "fragment"
    }
   },
   "outputs": [
    {
     "name": "stdout",
     "output_type": "stream",
     "text": [
      "True\n",
      "False\n"
     ]
    }
   ],
   "source": [
    "hayAlMenosUnaLetraA = 'a' in 'abracadabra'\n",
    "unEnteroEnElRango = 20 in range(20)   \n",
    "\n",
    "# range(num) es una función built-in\n",
    "# resultado: la secuencia de números de 0 hasta num-1\n",
    "\n",
    "print(hayAlMenosUnaLetraA)\n",
    "print(unEnteroEnElRango)"
   ]
  },
  {
   "cell_type": "markdown",
   "metadata": {
    "slideshow": {
     "slide_type": "slide"
    }
   },
   "source": [
    "# Programa: \"felicitador selectivo\"\n"
   ]
  },
  {
   "cell_type": "code",
   "execution_count": 5,
   "metadata": {
    "collapsed": false,
    "slideshow": {
     "slide_type": "fragment"
    }
   },
   "outputs": [
    {
     "name": "stdout",
     "output_type": "stream",
     "text": [
      "¿cuál es tu lenguaje favorito?\n",
      "(p)ython - (b)asic - (f)ortran - (l)isp - (a)da\n",
      "a\n",
      "you know nothing, john snow!\n"
     ]
    }
   ],
   "source": [
    "pregunta = \"¿cuál es tu lenguaje favorito?\"\n",
    "opciones = \"(p)ython - (b)asic - (f)ortran - (l)isp - (a)da\"\n",
    "permitidas = \"pbfla\"\n",
    "\n",
    "print(pregunta)\n",
    "print(opciones)\n",
    "eleccionUsuario = 'z'\n",
    "\n",
    "while eleccionUsuario not in permitidas:\n",
    "    eleccionUsuario = input().lower()\n",
    "\n",
    "if eleccionUsuario == 'p':\n",
    "    print(\"¡sos un genio!\")\n",
    "else:\n",
    "    print(\"you know nothing, john snow!\")"
   ]
  },
  {
   "cell_type": "markdown",
   "metadata": {
    "slideshow": {
     "slide_type": "slide"
    }
   },
   "source": [
    "# Si por algún motivo se requiere salir del While, usar break.\n",
    "\n",
    "``` python\n",
    "while condicion1 or condicion2:\n",
    "    orden1\n",
    "    orden2\n",
    "    if condicionX:\n",
    "        break\n",
    "    orden4\n",
    "```"
   ]
  }
 ],
 "metadata": {
  "celltoolbar": "Slideshow",
  "kernelspec": {
   "display_name": "Python 3",
   "language": "python",
   "name": "python3"
  },
  "language_info": {
   "codemirror_mode": {
    "name": "ipython",
    "version": 3
   },
   "file_extension": ".py",
   "mimetype": "text/x-python",
   "name": "python",
   "nbconvert_exporter": "python",
   "pygments_lexer": "ipython3",
   "version": "3.5.0"
  }
 },
 "nbformat": 4,
 "nbformat_minor": 0
}
