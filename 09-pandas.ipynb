{
 "cells": [
  {
   "cell_type": "code",
   "execution_count": 3,
   "metadata": {
    "collapsed": true,
    "slideshow": {
     "slide_type": "skip"
    }
   },
   "outputs": [],
   "source": [
    "%matplotlib inline"
   ]
  },
  {
   "cell_type": "markdown",
   "metadata": {
    "slideshow": {
     "slide_type": "slide"
    }
   },
   "source": [
    "## Matplotlib\n",
    "\n",
    "- gráficos en 2D de matrices\n",
    "\n",
    "## Numpy\n",
    "\n",
    "- matrices\n",
    "\n",
    "## Pandas\n",
    "\n",
    "- análisis de datos\n",
    "\n",
    "## Scikit-image\n",
    "\n",
    "- procesamiento de imágenes\n"
   ]
  },
  {
   "cell_type": "markdown",
   "metadata": {
    "slideshow": {
     "slide_type": "slide"
    }
   },
   "source": [
    "# Pandas"
   ]
  },
  {
   "cell_type": "code",
   "execution_count": 4,
   "metadata": {
    "collapsed": false,
    "slideshow": {
     "slide_type": "slide"
    }
   },
   "outputs": [],
   "source": [
    "# construcción del nombre del archivo a procesar\n",
    "miDirectorio = './datos/'\n",
    "nombreArchivo = 'registro1.txt'\n",
    "archivoDatos = miDirectorio + nombreArchivo\n",
    "\n",
    "# apertura, lectura y cierre del archivo\n",
    "file = open(archivoDatos, 'r')\n",
    "lineas = file.readlines()\n",
    "file.close()\n",
    "\n",
    "# a partir de la lista de datos construimos dos listas: tiempo y voltaje\n",
    "tiempo =  [float(t.split('\\t')[0].replace(',', '.')) for t in lineas]\n",
    "voltaje = [float(t.split('\\t')[1].replace(',', '.')) for t in lineas]"
   ]
  },
  {
   "cell_type": "code",
   "execution_count": 5,
   "metadata": {
    "collapsed": false,
    "slideshow": {
     "slide_type": "slide"
    }
   },
   "outputs": [
    {
     "name": "stdout",
     "output_type": "stream",
     "text": [
      "TIEMPO\n",
      "Tamaño total:  359\n",
      "Tiempos: [284.405, 284.41, 284.415, 284.42, 284.425, 284.43, 284.435, 284.44, 284.445, 284.45, 284.455, 284.46, 284.465, 284.47, 284.475, 284.48, 284.485, 284.49, 284.495, 284.5]\n",
      "------------------------------------\n",
      "VOLTAJE\n",
      "Tamaño total:  359\n",
      "Tiempos: [0.101, 0.101, 0.101, 0.101, 0.101, 0.101, 0.101, 0.102, 0.103, 0.104, 0.104, 0.105, 0.106, 0.106, 0.106, 0.105, 0.105, 0.104, 0.103, 0.102]\n"
     ]
    }
   ],
   "source": [
    "# Se muestran los primeros valores\n",
    "print(\"TIEMPO\")\n",
    "print(\"Tamaño total: \", len(tiempo))\n",
    "print(\"Tiempos:\", tiempo[:20])\n",
    "print(\"------------------------------------\")\n",
    "print(\"VOLTAJE\")\n",
    "print(\"Tamaño total: \", len(voltaje))\n",
    "print(\"Tiempos:\", voltaje[:20])\n"
   ]
  },
  {
   "cell_type": "markdown",
   "metadata": {
    "slideshow": {
     "slide_type": "slide"
    }
   },
   "source": [
    "# Con Pandas"
   ]
  },
  {
   "cell_type": "code",
   "execution_count": 6,
   "metadata": {
    "collapsed": false,
    "slideshow": {
     "slide_type": "fragment"
    }
   },
   "outputs": [],
   "source": [
    "import pandas as pd\n",
    "# pd.options.display.max_columns= 60\n",
    "pd.options.display.max_rows= 10\n",
    "pd.options.display.notebook_repr_html = True\n",
    "\n",
    "# construcción del nombre del archivo a procesar\n",
    "miDirectorio = './datos/'\n",
    "nombreArchivo = 'registro1.txt'\n",
    "archivoDatos = miDirectorio + nombreArchivo\n",
    "\n",
    "registro = pd.read_csv(archivoDatos, sep='\\t', names=['tiempo','voltaje'], decimal=',')"
   ]
  },
  {
   "cell_type": "markdown",
   "metadata": {
    "slideshow": {
     "slide_type": "slide"
    }
   },
   "source": [
    "# Estructura de datos: dataframe\n",
    "\n",
    "| **Index** | Columna 1 | Columna 2 |\n",
    "| :---: | :-------: | :-------: |\n",
    "| **1** | valor 1 | valor a |\n",
    "| **2** | valor 2 | valor b |\n",
    "| ... | ... | ... |\n",
    "| **N** | valor | valor |\n",
    "\n",
    "Se puede determinar que una columna sea el índice utilizando:\n",
    "\n",
    "``` python\n",
    "\n",
    "pd.read_csv(archivoDatos, index_col='Columna 1')\n",
    "```\n",
    "\n",
    "| **Columna 1** | Columna 2 |\n",
    "| :-------: | :-------: |\n",
    "| **valor 1** | valor a |\n",
    "| **valor 2** | valor b |\n",
    "| **...** | ... |\n",
    "| **valor** | valor |\n"
   ]
  },
  {
   "cell_type": "code",
   "execution_count": 7,
   "metadata": {
    "collapsed": false,
    "slideshow": {
     "slide_type": "slide"
    }
   },
   "outputs": [
    {
     "data": {
      "text/html": [
       "<div>\n",
       "<table border=\"1\" class=\"dataframe\">\n",
       "  <thead>\n",
       "    <tr style=\"text-align: right;\">\n",
       "      <th></th>\n",
       "      <th>tiempo</th>\n",
       "      <th>voltaje</th>\n",
       "    </tr>\n",
       "  </thead>\n",
       "  <tbody>\n",
       "    <tr>\n",
       "      <th>0</th>\n",
       "      <td>284.405</td>\n",
       "      <td>0.101</td>\n",
       "    </tr>\n",
       "    <tr>\n",
       "      <th>1</th>\n",
       "      <td>284.410</td>\n",
       "      <td>0.101</td>\n",
       "    </tr>\n",
       "    <tr>\n",
       "      <th>2</th>\n",
       "      <td>284.415</td>\n",
       "      <td>0.101</td>\n",
       "    </tr>\n",
       "    <tr>\n",
       "      <th>3</th>\n",
       "      <td>284.420</td>\n",
       "      <td>0.101</td>\n",
       "    </tr>\n",
       "    <tr>\n",
       "      <th>4</th>\n",
       "      <td>284.425</td>\n",
       "      <td>0.101</td>\n",
       "    </tr>\n",
       "    <tr>\n",
       "      <th>...</th>\n",
       "      <td>...</td>\n",
       "      <td>...</td>\n",
       "    </tr>\n",
       "    <tr>\n",
       "      <th>354</th>\n",
       "      <td>286.175</td>\n",
       "      <td>0.097</td>\n",
       "    </tr>\n",
       "    <tr>\n",
       "      <th>355</th>\n",
       "      <td>286.180</td>\n",
       "      <td>0.097</td>\n",
       "    </tr>\n",
       "    <tr>\n",
       "      <th>356</th>\n",
       "      <td>286.185</td>\n",
       "      <td>0.097</td>\n",
       "    </tr>\n",
       "    <tr>\n",
       "      <th>357</th>\n",
       "      <td>286.190</td>\n",
       "      <td>0.097</td>\n",
       "    </tr>\n",
       "    <tr>\n",
       "      <th>358</th>\n",
       "      <td>286.195</td>\n",
       "      <td>0.097</td>\n",
       "    </tr>\n",
       "  </tbody>\n",
       "</table>\n",
       "<p>359 rows × 2 columns</p>\n",
       "</div>"
      ],
      "text/plain": [
       "      tiempo  voltaje\n",
       "0    284.405    0.101\n",
       "1    284.410    0.101\n",
       "2    284.415    0.101\n",
       "3    284.420    0.101\n",
       "4    284.425    0.101\n",
       "..       ...      ...\n",
       "354  286.175    0.097\n",
       "355  286.180    0.097\n",
       "356  286.185    0.097\n",
       "357  286.190    0.097\n",
       "358  286.195    0.097\n",
       "\n",
       "[359 rows x 2 columns]"
      ]
     },
     "execution_count": 7,
     "metadata": {},
     "output_type": "execute_result"
    }
   ],
   "source": [
    "registro"
   ]
  },
  {
   "cell_type": "code",
   "execution_count": 8,
   "metadata": {
    "collapsed": false,
    "slideshow": {
     "slide_type": "slide"
    }
   },
   "outputs": [
    {
     "data": {
      "text/html": [
       "<div>\n",
       "<table border=\"1\" class=\"dataframe\">\n",
       "  <thead>\n",
       "    <tr style=\"text-align: right;\">\n",
       "      <th></th>\n",
       "      <th>tiempo</th>\n",
       "      <th>voltaje</th>\n",
       "    </tr>\n",
       "  </thead>\n",
       "  <tbody>\n",
       "    <tr>\n",
       "      <th>count</th>\n",
       "      <td>359.000000</td>\n",
       "      <td>359.000000</td>\n",
       "    </tr>\n",
       "    <tr>\n",
       "      <th>mean</th>\n",
       "      <td>285.300000</td>\n",
       "      <td>0.290760</td>\n",
       "    </tr>\n",
       "    <tr>\n",
       "      <th>std</th>\n",
       "      <td>0.518893</td>\n",
       "      <td>0.467566</td>\n",
       "    </tr>\n",
       "    <tr>\n",
       "      <th>min</th>\n",
       "      <td>284.405000</td>\n",
       "      <td>0.071000</td>\n",
       "    </tr>\n",
       "    <tr>\n",
       "      <th>25%</th>\n",
       "      <td>284.852500</td>\n",
       "      <td>0.086000</td>\n",
       "    </tr>\n",
       "    <tr>\n",
       "      <th>50%</th>\n",
       "      <td>285.300000</td>\n",
       "      <td>0.101000</td>\n",
       "    </tr>\n",
       "    <tr>\n",
       "      <th>75%</th>\n",
       "      <td>285.747500</td>\n",
       "      <td>0.105500</td>\n",
       "    </tr>\n",
       "    <tr>\n",
       "      <th>max</th>\n",
       "      <td>286.195000</td>\n",
       "      <td>1.819000</td>\n",
       "    </tr>\n",
       "  </tbody>\n",
       "</table>\n",
       "</div>"
      ],
      "text/plain": [
       "           tiempo     voltaje\n",
       "count  359.000000  359.000000\n",
       "mean   285.300000    0.290760\n",
       "std      0.518893    0.467566\n",
       "min    284.405000    0.071000\n",
       "25%    284.852500    0.086000\n",
       "50%    285.300000    0.101000\n",
       "75%    285.747500    0.105500\n",
       "max    286.195000    1.819000"
      ]
     },
     "execution_count": 8,
     "metadata": {},
     "output_type": "execute_result"
    }
   ],
   "source": [
    "registro.describe()"
   ]
  },
  {
   "cell_type": "code",
   "execution_count": 9,
   "metadata": {
    "collapsed": false,
    "slideshow": {
     "slide_type": "slide"
    }
   },
   "outputs": [
    {
     "data": {
      "text/plain": [
       "0      0.101\n",
       "1      0.101\n",
       "2      0.101\n",
       "3      0.101\n",
       "4      0.101\n",
       "       ...  \n",
       "354    0.097\n",
       "355    0.097\n",
       "356    0.097\n",
       "357    0.097\n",
       "358    0.097\n",
       "Name: voltaje, dtype: float64"
      ]
     },
     "execution_count": 9,
     "metadata": {},
     "output_type": "execute_result"
    }
   ],
   "source": [
    "registro['voltaje']"
   ]
  },
  {
   "cell_type": "code",
   "execution_count": 10,
   "metadata": {
    "collapsed": false,
    "slideshow": {
     "slide_type": "fragment"
    }
   },
   "outputs": [
    {
     "data": {
      "text/plain": [
       "0.096999999999999989"
      ]
     },
     "execution_count": 10,
     "metadata": {},
     "output_type": "execute_result"
    }
   ],
   "source": [
    "registro['voltaje'][358]"
   ]
  },
  {
   "cell_type": "markdown",
   "metadata": {
    "slideshow": {
     "slide_type": "slide"
    }
   },
   "source": [
    "# Graficación"
   ]
  },
  {
   "cell_type": "code",
   "execution_count": 11,
   "metadata": {
    "collapsed": false,
    "slideshow": {
     "slide_type": "fragment"
    }
   },
   "outputs": [
    {
     "data": {
      "text/plain": [
       "<matplotlib.axes._subplots.AxesSubplot at 0x7fd562374358>"
      ]
     },
     "execution_count": 11,
     "metadata": {},
     "output_type": "execute_result"
    },
    {
     "data": {
      "image/png": "[encoded data removed]",
      "text/plain": [
       "<matplotlib.figure.Figure at 0x7fd5625c0978>"
      ]
     },
     "metadata": {},
     "output_type": "display_data"
    }
   ],
   "source": [
    "registro.plot('tiempo', 'voltaje')"
   ]
  },
  {
   "cell_type": "markdown",
   "metadata": {
    "slideshow": {
     "slide_type": "slide"
    }
   },
   "source": [
    "# Procesamiento\n",
    "\n",
    "## Hallar la duración de la señal al 50% del máximo"
   ]
  },
  {
   "cell_type": "markdown",
   "metadata": {
    "slideshow": {
     "slide_type": "slide"
    }
   },
   "source": [
    "## Buscamos el máximo"
   ]
  },
  {
   "cell_type": "code",
   "execution_count": 12,
   "metadata": {
    "collapsed": false,
    "slideshow": {
     "slide_type": "fragment"
    }
   },
   "outputs": [
    {
     "name": "stdout",
     "output_type": "stream",
     "text": [
      "El máximo es 1.819 y corresponde al elemento 151\n"
     ]
    }
   ],
   "source": [
    "maximo = registro['voltaje'].max()\n",
    "ubicacionMaximo = registro['voltaje'].idxmax()\n",
    "print(\"El máximo es {0} y corresponde al elemento {1}\".format(maximo, ubicacionMaximo))"
   ]
  },
  {
   "cell_type": "markdown",
   "metadata": {
    "slideshow": {
     "slide_type": "slide"
    }
   },
   "source": [
    "# Estimación del valor en reposo"
   ]
  },
  {
   "cell_type": "code",
   "execution_count": 13,
   "metadata": {
    "collapsed": false,
    "slideshow": {
     "slide_type": "fragment"
    }
   },
   "outputs": [
    {
     "name": "stdout",
     "output_type": "stream",
     "text": [
      "El valor en reposo es 0.10232 aprox\n"
     ]
    }
   ],
   "source": [
    "reposo = registro['voltaje'][0:50].mean()\n",
    "print(\"El valor en reposo es {0:.5f} aprox\".format(reposo))"
   ]
  },
  {
   "cell_type": "markdown",
   "metadata": {
    "slideshow": {
     "slide_type": "slide"
    }
   },
   "source": [
    "# Ancho a la mitad del máximo (FWHM)"
   ]
  },
  {
   "cell_type": "code",
   "execution_count": 14,
   "metadata": {
    "collapsed": false,
    "slideshow": {
     "slide_type": "fragment"
    }
   },
   "outputs": [
    {
     "name": "stdout",
     "output_type": "stream",
     "text": [
      "la mitad de la amplitud máxima es 0.96066\n"
     ]
    }
   ],
   "source": [
    "mitadMaximo = reposo + (maximo - reposo) / 2\n",
    "print(\"la mitad de la amplitud máxima es {0:.5f}\".format(mitadMaximo))"
   ]
  },
  {
   "cell_type": "markdown",
   "metadata": {
    "slideshow": {
     "slide_type": "slide"
    }
   },
   "source": [
    "# Operaciones sobre una columna (sin bucle for)"
   ]
  },
  {
   "cell_type": "code",
   "execution_count": 15,
   "metadata": {
    "collapsed": false,
    "slideshow": {
     "slide_type": "fragment"
    }
   },
   "outputs": [
    {
     "data": {
      "text/plain": [
       "0      False\n",
       "1      False\n",
       "2      False\n",
       "3      False\n",
       "4      False\n",
       "       ...  \n",
       "354    False\n",
       "355    False\n",
       "356    False\n",
       "357    False\n",
       "358    False\n",
       "Name: voltaje, dtype: bool"
      ]
     },
     "execution_count": 15,
     "metadata": {},
     "output_type": "execute_result"
    }
   ],
   "source": [
    "registro['voltaje'] > mitadMaximo"
   ]
  },
  {
   "cell_type": "code",
   "execution_count": 16,
   "metadata": {
    "collapsed": false,
    "scrolled": true,
    "slideshow": {
     "slide_type": "slide"
    }
   },
   "outputs": [
    {
     "data": {
      "text/html": [
       "<div>\n",
       "<table border=\"1\" class=\"dataframe\">\n",
       "  <thead>\n",
       "    <tr style=\"text-align: right;\">\n",
       "      <th></th>\n",
       "      <th>tiempo</th>\n",
       "      <th>voltaje</th>\n",
       "      <th>por encima del 50%</th>\n",
       "    </tr>\n",
       "  </thead>\n",
       "  <tbody>\n",
       "    <tr>\n",
       "      <th>151</th>\n",
       "      <td>285.160</td>\n",
       "      <td>1.819</td>\n",
       "      <td>True</td>\n",
       "    </tr>\n",
       "    <tr>\n",
       "      <th>152</th>\n",
       "      <td>285.165</td>\n",
       "      <td>1.818</td>\n",
       "      <td>True</td>\n",
       "    </tr>\n",
       "    <tr>\n",
       "      <th>153</th>\n",
       "      <td>285.170</td>\n",
       "      <td>1.812</td>\n",
       "      <td>True</td>\n",
       "    </tr>\n",
       "    <tr>\n",
       "      <th>154</th>\n",
       "      <td>285.175</td>\n",
       "      <td>1.802</td>\n",
       "      <td>True</td>\n",
       "    </tr>\n",
       "    <tr>\n",
       "      <th>155</th>\n",
       "      <td>285.180</td>\n",
       "      <td>1.789</td>\n",
       "      <td>True</td>\n",
       "    </tr>\n",
       "    <tr>\n",
       "      <th>...</th>\n",
       "      <td>...</td>\n",
       "      <td>...</td>\n",
       "      <td>...</td>\n",
       "    </tr>\n",
       "    <tr>\n",
       "      <th>354</th>\n",
       "      <td>286.175</td>\n",
       "      <td>0.097</td>\n",
       "      <td>False</td>\n",
       "    </tr>\n",
       "    <tr>\n",
       "      <th>355</th>\n",
       "      <td>286.180</td>\n",
       "      <td>0.097</td>\n",
       "      <td>False</td>\n",
       "    </tr>\n",
       "    <tr>\n",
       "      <th>356</th>\n",
       "      <td>286.185</td>\n",
       "      <td>0.097</td>\n",
       "      <td>False</td>\n",
       "    </tr>\n",
       "    <tr>\n",
       "      <th>357</th>\n",
       "      <td>286.190</td>\n",
       "      <td>0.097</td>\n",
       "      <td>False</td>\n",
       "    </tr>\n",
       "    <tr>\n",
       "      <th>358</th>\n",
       "      <td>286.195</td>\n",
       "      <td>0.097</td>\n",
       "      <td>False</td>\n",
       "    </tr>\n",
       "  </tbody>\n",
       "</table>\n",
       "<p>208 rows × 3 columns</p>\n",
       "</div>"
      ],
      "text/plain": [
       "      tiempo  voltaje por encima del 50%\n",
       "151  285.160    1.819               True\n",
       "152  285.165    1.818               True\n",
       "153  285.170    1.812               True\n",
       "154  285.175    1.802               True\n",
       "155  285.180    1.789               True\n",
       "..       ...      ...                ...\n",
       "354  286.175    0.097              False\n",
       "355  286.180    0.097              False\n",
       "356  286.185    0.097              False\n",
       "357  286.190    0.097              False\n",
       "358  286.195    0.097              False\n",
       "\n",
       "[208 rows x 3 columns]"
      ]
     },
     "execution_count": 16,
     "metadata": {},
     "output_type": "execute_result"
    }
   ],
   "source": [
    "registro['por encima del 50%'] = registro['voltaje'] > mitadMaximo\n",
    "registro[ubicacionMaximo:]"
   ]
  },
  {
   "cell_type": "code",
   "execution_count": 17,
   "metadata": {
    "collapsed": false,
    "slideshow": {
     "slide_type": "slide"
    }
   },
   "outputs": [
    {
     "data": {
      "text/plain": [
       "Int64Index([135, 136, 137, 138, 139, 140, 141, 142, 143, 144, 145, 146, 147,\n",
       "            148, 149, 150, 151, 152, 153, 154, 155, 156, 157, 158, 159, 160,\n",
       "            161, 162, 163, 164, 165, 166, 167, 168, 169, 170, 171, 172, 173,\n",
       "            174, 175],\n",
       "           dtype='int64')"
      ]
     },
     "execution_count": 17,
     "metadata": {},
     "output_type": "execute_result"
    }
   ],
   "source": [
    "indicesPorEncimaDe50 = registro[registro['por encima del 50%']==True].index\n",
    "indicesPorEncimaDe50"
   ]
  },
  {
   "cell_type": "markdown",
   "metadata": {
    "slideshow": {
     "slide_type": "fragment"
    }
   },
   "source": [
    "## continuará..."
   ]
  }
 ],
 "metadata": {
  "celltoolbar": "Slideshow",
  "kernelspec": {
   "display_name": "Python 3",
   "language": "python",
   "name": "python3"
  },
  "language_info": {
   "codemirror_mode": {
    "name": "ipython",
    "version": 3
   },
   "file_extension": ".py",
   "mimetype": "text/x-python",
   "name": "python",
   "nbconvert_exporter": "python",
   "pygments_lexer": "ipython3",
   "version": "3.5.0"
  }
 },
 "nbformat": 4,
 "nbformat_minor": 0
}
