{
 "cells": [
  {
   "cell_type": "code",
   "execution_count": 3,
   "metadata": {
    "collapsed": false,
    "slideshow": {
     "slide_type": "skip"
    }
   },
   "outputs": [
    {
     "data": {
      "text/plain": [
       "{'start_slideshow_at': 'selected', 'theme': 'serif', 'transition': 'default'}"
      ]
     },
     "execution_count": 3,
     "metadata": {},
     "output_type": "execute_result"
    }
   ],
   "source": [
    "from notebook.services.config import ConfigManager\n",
    "cm = ConfigManager()\n",
    "cm.update('livereveal', {\n",
    "              'theme': 'serif',\n",
    "              'transition': 'default',\n",
    "              'start_slideshow_at': 'selected',\n",
    "})"
   ]
  },
  {
   "cell_type": "markdown",
   "metadata": {
    "slideshow": {
     "slide_type": "slide"
    }
   },
   "source": [
    "# Strings\n",
    "\n",
    "+ son cadenas caracteres (ya las usamos en los prints)\n",
    "+ los caracteres sueltos son cadenas de longitud = 1\n",
    "+ los caracteres se ubican entre pares de ' o \"\n",
    "+ también se pueden usar triples comillas ''' para cadenas largas\n"
   ]
  },
  {
   "cell_type": "code",
   "execution_count": 1,
   "metadata": {
    "collapsed": false,
    "slideshow": {
     "slide_type": "fragment"
    }
   },
   "outputs": [
    {
     "name": "stdout",
     "output_type": "stream",
     "text": [
      "Potasio\n"
     ]
    }
   ],
   "source": [
    "elemento = 'Potasio'\n",
    "print(elemento)"
   ]
  },
  {
   "cell_type": "code",
   "execution_count": 2,
   "metadata": {
    "collapsed": false,
    "scrolled": true,
    "slideshow": {
     "slide_type": "fragment"
    }
   },
   "outputs": [
    {
     "data": {
      "text/plain": [
       "str"
      ]
     },
     "execution_count": 2,
     "metadata": {},
     "output_type": "execute_result"
    }
   ],
   "source": [
    "nroAtomicoPotasio = '19'\n",
    "type(nroAtomicoPotasio)   # como está entre comillas no es un número int"
   ]
  },
  {
   "cell_type": "markdown",
   "metadata": {
    "slideshow": {
     "slide_type": "slide"
    }
   },
   "source": [
    "# ¡Danger!\n",
    "\n",
    "De vez en cuando suceden cosas extrañas.\n",
    "\n",
    "¿Qué pasa si se incluyen comillas?"
   ]
  },
  {
   "cell_type": "code",
   "execution_count": 3,
   "metadata": {
    "collapsed": false,
    "slideshow": {
     "slide_type": "fragment"
    }
   },
   "outputs": [
    {
     "name": "stdout",
     "output_type": "stream",
     "text": [
      "En el último partido 'Los Pumas' le ganaron a Irlanda\n"
     ]
    }
   ],
   "source": [
    "# noticiaConError = \"\"Los Pumas\" le ganaron a Irlanda\"\n",
    "unaNoticia = \"En el último partido 'Los Pumas' le ganaron a Irlanda\"\n",
    "print(unaNoticia)"
   ]
  },
  {
   "cell_type": "markdown",
   "metadata": {
    "slideshow": {
     "slide_type": "fragment"
    }
   },
   "source": [
    "Existen secuencias especiales como \\n (linea nueva) o \\t (tabulación) que tienen efectos sobre la visualización:"
   ]
  },
  {
   "cell_type": "code",
   "execution_count": 71,
   "metadata": {
    "collapsed": false,
    "slideshow": {
     "slide_type": "fragment"
    }
   },
   "outputs": [
    {
     "data": {
      "text/plain": [
       "'Esto aparece escrito \\nen dos \\tlineas'"
      ]
     },
     "execution_count": 71,
     "metadata": {},
     "output_type": "execute_result"
    }
   ],
   "source": [
    "dosLineas = \"Esto aparece escrito \\nen dos \\tlineas\"\n",
    "dosLineas\n",
    "# print(dosLineas + '\\n')"
   ]
  },
  {
   "cell_type": "markdown",
   "metadata": {
    "slideshow": {
     "slide_type": "slide"
    }
   },
   "source": [
    "Pero a veces se necesita escribir \\n o \\t"
   ]
  },
  {
   "cell_type": "code",
   "execution_count": 50,
   "metadata": {
    "collapsed": false,
    "slideshow": {
     "slide_type": "fragment"
    }
   },
   "outputs": [
    {
     "name": "stdout",
     "output_type": "stream",
     "text": [
      "Se ha creado el directorio C:\n",
      "uevo\temp\n",
      "\n",
      "Se ha creado el directorio C:\\nuevo\\temp\n",
      "\n",
      "Se ha creado el directorio C:\\nuevo\\temp\n",
      "\n"
     ]
    }
   ],
   "source": [
    "aviso1 = \"Se ha creado el directorio C:\\nuevo\\temp\"\n",
    "aviso2 = \"Se ha creado el directorio C:\\\\nuevo\\\\temp\"\n",
    "aviso3 = r\"Se ha creado el directorio C:\\nuevo\\temp\"\n",
    "\n",
    "\n",
    "print(aviso1 + '\\n')\n",
    "print(aviso2 + '\\n')\n",
    "print(aviso3 + '\\n')"
   ]
  },
  {
   "cell_type": "markdown",
   "metadata": {
    "slideshow": {
     "slide_type": "slide"
    }
   },
   "source": [
    "# Cadenas de más de un renglón\n",
    "\n",
    "## triple comilla"
   ]
  },
  {
   "cell_type": "code",
   "execution_count": 6,
   "metadata": {
    "collapsed": false,
    "slideshow": {
     "slide_type": "fragment"
    }
   },
   "outputs": [
    {
     "name": "stdout",
     "output_type": "stream",
     "text": [
      "un\n",
      "elefante\n",
      "ocupa\n",
      "mucho\n",
      "espacio\n"
     ]
    }
   ],
   "source": [
    "cadenaLarga = '''un\n",
    "elefante\n",
    "ocupa\n",
    "mucho\n",
    "espacio'''\n",
    "\n",
    "print(cadenaLarga)"
   ]
  },
  {
   "cell_type": "markdown",
   "metadata": {
    "slideshow": {
     "slide_type": "slide"
    }
   },
   "source": [
    "## Acceso a los elementos de la cadena"
   ]
  },
  {
   "cell_type": "code",
   "execution_count": 38,
   "metadata": {
    "collapsed": false,
    "slideshow": {
     "slide_type": "fragment"
    }
   },
   "outputs": [
    {
     "name": "stdout",
     "output_type": "stream",
     "text": [
      "C\n",
      "o\n"
     ]
    }
   ],
   "source": [
    "sal = \"Cloruro de Potasio\"\n",
    "print(sal[0])\n",
    "print(sal[-1])"
   ]
  },
  {
   "cell_type": "markdown",
   "metadata": {
    "slideshow": {
     "slide_type": "slide"
    }
   },
   "source": [
    "## Las cadenas son inmutables"
   ]
  },
  {
   "cell_type": "code",
   "execution_count": 1,
   "metadata": {
    "collapsed": false,
    "slideshow": {
     "slide_type": "fragment"
    }
   },
   "outputs": [],
   "source": [
    "# sal[0] = 'P'"
   ]
  },
  {
   "cell_type": "markdown",
   "metadata": {
    "slideshow": {
     "slide_type": "slide"
    }
   },
   "source": [
    "# Concatenación de cadenas"
   ]
  },
  {
   "cell_type": "code",
   "execution_count": 39,
   "metadata": {
    "collapsed": false,
    "slideshow": {
     "slide_type": "fragment"
    }
   },
   "outputs": [
    {
     "name": "stdout",
     "output_type": "stream",
     "text": [
      "Dijo el señor Miyagui: \"encerar-pulir\"\n"
     ]
    }
   ],
   "source": [
    "cad1 = \"encerar\"\n",
    "cad2 = '-'         # cadena de un solo caracter\n",
    "cad3 = \"pulir\"\n",
    "\n",
    "print('Dijo el señor Miyagui: \"' + cad1 + cad2 + cad3 + '\"')"
   ]
  },
  {
   "cell_type": "markdown",
   "metadata": {
    "slideshow": {
     "slide_type": "slide"
    }
   },
   "source": [
    "# Utilidad de las cadenas\n",
    "\n",
    "- Mensajes\n",
    "- Datos:\n",
    "\n",
    "``` python\n",
    "unaSecuencia = 'ACTGATCGTTTGCTATCATACATATATATCGATGCGTTCAT'\n",
    "lineaDeUnRegistro = '284,445\\t0,103'\n",
    "```"
   ]
  },
  {
   "cell_type": "markdown",
   "metadata": {
    "slideshow": {
     "slide_type": "slide"
    }
   },
   "source": [
    "# Funciones útiles (métodos)\n",
    "\n",
    "- la cadena original sigue existiendo (son inmutables) \n",
    "- ejemplos:\n",
    "    - lower()\n",
    "    - upper()\n",
    "    - capitalize()\n",
    "    - split('chars')\n",
    "    - count('chars')\n",
    "    - find('chars'): -1 si no lo encuentra\n",
    "    - replace('orig', 'reempl')\n",
    "- más sobre cadenas [en la documentación de la librería estándar](http://docs.python.org/3/library/string.html)"
   ]
  },
  {
   "cell_type": "code",
   "execution_count": 40,
   "metadata": {
    "collapsed": false,
    "slideshow": {
     "slide_type": "slide"
    }
   },
   "outputs": [
    {
     "name": "stdout",
     "output_type": "stream",
     "text": [
      "CLORURO DE POTASIO\n",
      "284,445;0,103\n"
     ]
    }
   ],
   "source": [
    "sal = \"Cloruro de Potasio\"\n",
    "print(sal.upper())\n",
    "\n",
    "lineaDeUnRegistro = '284,445\\t0,103'\n",
    "print(lineaDeUnRegistro.replace('\\t', ';'))"
   ]
  },
  {
   "cell_type": "markdown",
   "metadata": {
    "slideshow": {
     "slide_type": "slide"
    }
   },
   "source": [
    "## Se pueden concatenar operaciones"
   ]
  },
  {
   "cell_type": "code",
   "execution_count": 31,
   "metadata": {
    "collapsed": false,
    "slideshow": {
     "slide_type": "fragment"
    }
   },
   "outputs": [
    {
     "name": "stdout",
     "output_type": "stream",
     "text": [
      "Sal original:  Cloruro de Potasio\n",
      "Otra sal:  ['CLORURO', 'DE', 'SODIO']\n"
     ]
    }
   ],
   "source": [
    "sal = \"Cloruro de Potasio\"\n",
    "otra_sal = sal.replace('Potasio', 'sodio').upper().split(' ')\n",
    "\n",
    "print(\"Sal original: \", sal)\n",
    "print(\"Otra sal: \", otra_sal)"
   ]
  },
  {
   "cell_type": "code",
   "execution_count": 72,
   "metadata": {
    "collapsed": false,
    "slideshow": {
     "slide_type": "fragment"
    }
   },
   "outputs": [
    {
     "name": "stdout",
     "output_type": "stream",
     "text": [
      "Conteo de T:  21\n"
     ]
    }
   ],
   "source": [
    "unaSecuencia = 'ACTGATCGATTACGTATAGTATTTGCTATCATACATATATATCGATGCGTTCAT'\n",
    "conteo = unaSecuencia.lower().count('t')\n",
    "print(\"Conteo de T: \", conteo)"
   ]
  },
  {
   "cell_type": "code",
   "execution_count": 73,
   "metadata": {
    "collapsed": false,
    "slideshow": {
     "slide_type": "fragment"
    }
   },
   "outputs": [
    {
     "name": "stdout",
     "output_type": "stream",
     "text": [
      "284,445\t0,103\n"
     ]
    }
   ],
   "source": [
    "print(lineaDeUnRegistro.replace(',', '.').replace('.', ','))"
   ]
  },
  {
   "cell_type": "markdown",
   "metadata": {
    "slideshow": {
     "slide_type": "slide"
    }
   },
   "source": [
    "# Slicing (rebanado)\n",
    "\n",
    "``` python\n",
    "cadena[inicio:fin:paso]\n",
    "```"
   ]
  },
  {
   "cell_type": "code",
   "execution_count": 41,
   "metadata": {
    "collapsed": false,
    "slideshow": {
     "slide_type": "fragment"
    }
   },
   "outputs": [
    {
     "name": "stdout",
     "output_type": "stream",
     "text": [
      "La ruta\n"
     ]
    }
   ],
   "source": [
    "cad = \"La ruta nos aportó otro paso natural\"\n",
    "print(cad[0:7])"
   ]
  },
  {
   "cell_type": "code",
   "execution_count": 42,
   "metadata": {
    "collapsed": false,
    "slideshow": {
     "slide_type": "fragment"
    }
   },
   "outputs": [
    {
     "name": "stdout",
     "output_type": "stream",
     "text": [
      "L ua\n"
     ]
    }
   ],
   "source": [
    "print(cad[0:7:2])"
   ]
  },
  {
   "cell_type": "code",
   "execution_count": 45,
   "metadata": {
    "collapsed": false,
    "slideshow": {
     "slide_type": "slide"
    }
   },
   "outputs": [
    {
     "name": "stdout",
     "output_type": "stream",
     "text": [
      "paso natural\n"
     ]
    }
   ],
   "source": [
    "cad = \"La ruta nos aportó otro paso natural\"\n",
    "print(cad[24:])"
   ]
  },
  {
   "cell_type": "code",
   "execution_count": 46,
   "metadata": {
    "collapsed": false,
    "scrolled": false,
    "slideshow": {
     "slide_type": "fragment"
    }
   },
   "outputs": [
    {
     "name": "stdout",
     "output_type": "stream",
     "text": [
      "larutan osap orto ótropa son atur aL\n"
     ]
    }
   ],
   "source": [
    "print(cad[::-1])"
   ]
  },
  {
   "cell_type": "markdown",
   "metadata": {
    "slideshow": {
     "slide_type": "fragment"
    }
   },
   "source": [
    "## Armar script para testear palíndromos"
   ]
  },
  {
   "cell_type": "code",
   "execution_count": 70,
   "metadata": {
    "collapsed": false,
    "slideshow": {
     "slide_type": "fragment"
    }
   },
   "outputs": [],
   "source": [
    "cad = \"La ruta nos aportó otro paso natural\""
   ]
  },
  {
   "cell_type": "code",
   "execution_count": 1,
   "metadata": {
    "collapsed": false,
    "slideshow": {
     "slide_type": "slide"
    }
   },
   "outputs": [
    {
     "data": {
      "image/png": "[encoded data removed]",
      "text/plain": [
       "<IPython.core.display.Image object>"
      ]
     },
     "execution_count": 1,
     "metadata": {},
     "output_type": "execute_result"
    }
   ],
   "source": [
    "from IPython.display import Image\n",
    "Image(filename='./imagenes/python-programmer.png', width=None)"
   ]
  },
  {
   "cell_type": "markdown",
   "metadata": {
    "slideshow": {
     "slide_type": "slide"
    }
   },
   "source": [
    "# No confundir strings con números"
   ]
  },
  {
   "cell_type": "code",
   "execution_count": 75,
   "metadata": {
    "collapsed": false,
    "slideshow": {
     "slide_type": "fragment"
    }
   },
   "outputs": [
    {
     "data": {
      "text/plain": [
       "False"
      ]
     },
     "execution_count": 75,
     "metadata": {},
     "output_type": "execute_result"
    }
   ],
   "source": [
    "uno = 1.0\n",
    "unoPuntoCero = \"1.0\"\n",
    "\n",
    "uno == unoPuntoCero"
   ]
  },
  {
   "cell_type": "markdown",
   "metadata": {
    "slideshow": {
     "slide_type": "fragment"
    }
   },
   "source": [
    "Conversión:\n",
    "\n",
    "- int('cadena')\n",
    "- float('cadena')\n",
    "- str(número)"
   ]
  },
  {
   "cell_type": "markdown",
   "metadata": {
    "slideshow": {
     "slide_type": "slide"
    }
   },
   "source": [
    "# Vuelta a los números\n",
    "\n",
    "## Tarea: sumar los primeros enteros entre 1 y 10\n",
    "\n",
    "- Secuencia de órdenes\n",
    "\n",
    "``` python\n",
    "# inicializamos dos variables\n",
    "acumulador = 0\n",
    "n = 1\n",
    "\n",
    "# repetimos hasta que n = 10\n",
    "acumulador = acumulador + n\n",
    "n = n + 1\n",
    "```\n",
    "\n",
    "**Observación**: a esta repetición con valores sucesivos de una variable se la denomina \"iterar\"."
   ]
  },
  {
   "cell_type": "markdown",
   "metadata": {
    "slideshow": {
     "slide_type": "slide"
    }
   },
   "source": [
    "## Con la instrucción FOR las iteraciones se condensan:"
   ]
  },
  {
   "cell_type": "code",
   "execution_count": 9,
   "metadata": {
    "collapsed": false,
    "slideshow": {
     "slide_type": "fragment"
    }
   },
   "outputs": [
    {
     "name": "stdout",
     "output_type": "stream",
     "text": [
      "n vale:  1\n",
      "n vale:  2\n",
      "n vale:  3\n",
      "n vale:  4\n",
      "n vale:  5\n",
      "n vale:  6\n",
      "n vale:  7\n",
      "n vale:  8\n",
      "n vale:  9\n",
      "La suma de los primeros 9 enteros da 45\n"
     ]
    }
   ],
   "source": [
    "acumulador = 0\n",
    "n_max = 10\n",
    "\n",
    "for n in range(1, n_max):                 # range en python 3 es un tipo\n",
    "    print(\"n vale: \", n)\n",
    "    acumulador = acumulador + n\n",
    "\n",
    "print(\"La suma de los primeros {0} enteros da {1}\".format(n, acumulador))"
   ]
  },
  {
   "cell_type": "markdown",
   "metadata": {
    "slideshow": {
     "slide_type": "slide"
    }
   },
   "source": [
    "# ¡Se pueden iterar cadenas de caracteres!\n"
   ]
  },
  {
   "cell_type": "code",
   "execution_count": 1,
   "metadata": {
    "collapsed": false,
    "slideshow": {
     "slide_type": "fragment"
    }
   },
   "outputs": [
    {
     "name": "stdout",
     "output_type": "stream",
     "text": [
      "M\n",
      "e\n",
      " \n",
      "g\n",
      "u\n",
      "s\n",
      "t\n",
      "a\n",
      " \n",
      "e\n",
      "l\n",
      " \n",
      "a\n",
      "r\n",
      "t\n",
      "e\n"
     ]
    }
   ],
   "source": [
    "cad = \"Me gusta el arte\"\n",
    "\n",
    "for letra in cad:\n",
    "    print(letra)"
   ]
  },
  {
   "cell_type": "markdown",
   "metadata": {
    "slideshow": {
     "slide_type": "slide"
    }
   },
   "source": [
    "# Todo lo iterable se puede iterar (¡plop!)\n",
    "\n",
    "- iterables son objetos que contienen el método \\_\\_iter\\_\\_():\n",
    "    - números que provienen de range, arange, etc\n",
    "    - cadenas de caracteres\n",
    "    - lineas de un archivo de texto\n",
    "    - listas\n",
    "    - tuplas\n",
    "    - diccionarios\n",
    "    - objetos creados por el usuario\n",
    "    - ...\n"
   ]
  },
  {
   "cell_type": "markdown",
   "metadata": {
    "collapsed": true,
    "slideshow": {
     "slide_type": "slide"
    }
   },
   "source": [
    "# Operador \"in\"\n",
    "\n",
    "+ No sólo se usa en los bucles FOR\n",
    "+ Permite saber si un elemento pertenece a un conjunto\n",
    "+ salida booleana"
   ]
  },
  {
   "cell_type": "code",
   "execution_count": 1,
   "metadata": {
    "collapsed": false,
    "slideshow": {
     "slide_type": "fragment"
    }
   },
   "outputs": [],
   "source": [
    "hayAlMenosUnaLetraA = 'a' in 'abracadabra'\n",
    "hayUnFloatEnElRango = 1.1 in range(20)"
   ]
  }
 ],
 "metadata": {
  "celltoolbar": "Slideshow",
  "kernelspec": {
   "display_name": "Python 3",
   "language": "python",
   "name": "python3"
  },
  "language_info": {
   "codemirror_mode": {
    "name": "ipython",
    "version": 3
   },
   "file_extension": ".py",
   "mimetype": "text/x-python",
   "name": "python",
   "nbconvert_exporter": "python",
   "pygments_lexer": "ipython3",
   "version": "3.5.0"
  }
 },
 "nbformat": 4,
 "nbformat_minor": 0
}
